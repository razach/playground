{
 "cells": [
  {
   "cell_type": "markdown",
   "metadata": {},
   "source": [
    "Testing out ipython notebooks running locally"
   ]
  },
  {
   "cell_type": "markdown",
   "metadata": {},
   "source": [
    "Lets figure out how to import a basic dataset\n",
    "\n",
    "https://www.openml.org/search?type=data&status=active&id=553"
   ]
  },
  {
   "cell_type": "markdown",
   "metadata": {},
   "source": [
    "What is ARFF format?\n",
    "https://datahub.io/blog/attribute-relation-file-format-arff\n",
    "\n",
    "How do I import it?\n",
    "https://discuss.analyticsvidhya.com/t/loading-arff-type-files-in-python/27419"
   ]
  },
  {
   "cell_type": "code",
   "execution_count": 28,
   "metadata": {},
   "outputs": [
    {
     "data": {
      "text/html": [
       "<div>\n",
       "<style scoped>\n",
       "    .dataframe tbody tr th:only-of-type {\n",
       "        vertical-align: middle;\n",
       "    }\n",
       "\n",
       "    .dataframe tbody tr th {\n",
       "        vertical-align: top;\n",
       "    }\n",
       "\n",
       "    .dataframe thead th {\n",
       "        text-align: right;\n",
       "    }\n",
       "</style>\n",
       "<table border=\"1\" class=\"dataframe\">\n",
       "  <thead>\n",
       "    <tr style=\"text-align: right;\">\n",
       "      <th></th>\n",
       "      <th>patient</th>\n",
       "      <th>time</th>\n",
       "      <th>status</th>\n",
       "      <th>age</th>\n",
       "      <th>sex</th>\n",
       "      <th>disease_type</th>\n",
       "      <th>frailty</th>\n",
       "    </tr>\n",
       "  </thead>\n",
       "  <tbody>\n",
       "    <tr>\n",
       "      <th>0</th>\n",
       "      <td>1.0</td>\n",
       "      <td>8.0</td>\n",
       "      <td>b'1'</td>\n",
       "      <td>28.0</td>\n",
       "      <td>b'male'</td>\n",
       "      <td>b'Other'</td>\n",
       "      <td>2.3</td>\n",
       "    </tr>\n",
       "    <tr>\n",
       "      <th>1</th>\n",
       "      <td>1.0</td>\n",
       "      <td>16.0</td>\n",
       "      <td>b'1'</td>\n",
       "      <td>28.0</td>\n",
       "      <td>b'male'</td>\n",
       "      <td>b'Other'</td>\n",
       "      <td>2.3</td>\n",
       "    </tr>\n",
       "    <tr>\n",
       "      <th>2</th>\n",
       "      <td>2.0</td>\n",
       "      <td>23.0</td>\n",
       "      <td>b'1'</td>\n",
       "      <td>48.0</td>\n",
       "      <td>b'female'</td>\n",
       "      <td>b'Glomerulo_Nephritis'</td>\n",
       "      <td>1.9</td>\n",
       "    </tr>\n",
       "    <tr>\n",
       "      <th>3</th>\n",
       "      <td>2.0</td>\n",
       "      <td>13.0</td>\n",
       "      <td>b'0'</td>\n",
       "      <td>48.0</td>\n",
       "      <td>b'female'</td>\n",
       "      <td>b'Glomerulo_Nephritis'</td>\n",
       "      <td>1.9</td>\n",
       "    </tr>\n",
       "    <tr>\n",
       "      <th>4</th>\n",
       "      <td>3.0</td>\n",
       "      <td>22.0</td>\n",
       "      <td>b'1'</td>\n",
       "      <td>32.0</td>\n",
       "      <td>b'male'</td>\n",
       "      <td>b'Other'</td>\n",
       "      <td>1.2</td>\n",
       "    </tr>\n",
       "  </tbody>\n",
       "</table>\n",
       "</div>"
      ],
      "text/plain": [
       "   patient  time status   age        sex            disease_type  frailty\n",
       "0      1.0   8.0   b'1'  28.0    b'male'                b'Other'      2.3\n",
       "1      1.0  16.0   b'1'  28.0    b'male'                b'Other'      2.3\n",
       "2      2.0  23.0   b'1'  48.0  b'female'  b'Glomerulo_Nephritis'      1.9\n",
       "3      2.0  13.0   b'0'  48.0  b'female'  b'Glomerulo_Nephritis'      1.9\n",
       "4      3.0  22.0   b'1'  32.0    b'male'                b'Other'      1.2"
      ]
     },
     "execution_count": 28,
     "metadata": {},
     "output_type": "execute_result"
    }
   ],
   "source": [
    "import pandas as pd\n",
    "from scipy.io import arff\n",
    "\n",
    "data = arff.loadarff('kidney.arff')\n",
    "df = pd.DataFrame(data[0])\n",
    "\n",
    "df.head()"
   ]
  },
  {
   "cell_type": "markdown",
   "metadata": {},
   "source": [
    "So the 'b' is appended because the pandas library interpreted the byte strings as byte objects. This needs to be converted into regular strings. This can be done by iterating over it and decoding it one at a time."
   ]
  },
  {
   "cell_type": "code",
   "execution_count": 25,
   "metadata": {},
   "outputs": [
    {
     "name": "stdout",
     "output_type": "stream",
     "text": [
      "object\n",
      "object\n",
      "patient         object\n",
      "time            object\n",
      "status          object\n",
      "age             object\n",
      "sex             object\n",
      "disease_type    object\n",
      "frailty         object\n",
      "dtype: object\n",
      "<class 'str'>\n",
      "<class 'pandas.core.frame.DataFrame'>\n",
      "<class 'pandas.core.series.Series'>\n"
     ]
    }
   ],
   "source": [
    "#dtype is specific to NumPy and Pandas\n",
    "print(df.columns.dtype.name)\n",
    "print(df[column].dtype.name)\n",
    "print(df.dtypes)\n",
    "print(type(df.iloc[1,1]))\n",
    "\n",
    "\n",
    "\n",
    "#type() is a generic python command\n",
    "print(type(df))\n",
    "print(type(df[column]))"
   ]
  },
  {
   "cell_type": "markdown",
   "metadata": {},
   "source": [
    "So now we need to clean up the data and give it the right types."
   ]
  },
  {
   "cell_type": "code",
   "execution_count": 26,
   "metadata": {},
   "outputs": [
    {
     "data": {
      "text/html": [
       "<div>\n",
       "<style scoped>\n",
       "    .dataframe tbody tr th:only-of-type {\n",
       "        vertical-align: middle;\n",
       "    }\n",
       "\n",
       "    .dataframe tbody tr th {\n",
       "        vertical-align: top;\n",
       "    }\n",
       "\n",
       "    .dataframe thead th {\n",
       "        text-align: right;\n",
       "    }\n",
       "</style>\n",
       "<table border=\"1\" class=\"dataframe\">\n",
       "  <thead>\n",
       "    <tr style=\"text-align: right;\">\n",
       "      <th></th>\n",
       "      <th>patient</th>\n",
       "      <th>time</th>\n",
       "      <th>status</th>\n",
       "      <th>age</th>\n",
       "      <th>sex</th>\n",
       "      <th>disease_type</th>\n",
       "      <th>frailty</th>\n",
       "    </tr>\n",
       "  </thead>\n",
       "  <tbody>\n",
       "    <tr>\n",
       "      <th>0</th>\n",
       "      <td>1.0</td>\n",
       "      <td>8.0</td>\n",
       "      <td>1</td>\n",
       "      <td>28.0</td>\n",
       "      <td>male</td>\n",
       "      <td>Other</td>\n",
       "      <td>2.3</td>\n",
       "    </tr>\n",
       "    <tr>\n",
       "      <th>1</th>\n",
       "      <td>1.0</td>\n",
       "      <td>16.0</td>\n",
       "      <td>1</td>\n",
       "      <td>28.0</td>\n",
       "      <td>male</td>\n",
       "      <td>Other</td>\n",
       "      <td>2.3</td>\n",
       "    </tr>\n",
       "    <tr>\n",
       "      <th>2</th>\n",
       "      <td>2.0</td>\n",
       "      <td>23.0</td>\n",
       "      <td>1</td>\n",
       "      <td>48.0</td>\n",
       "      <td>female</td>\n",
       "      <td>Glomerulo_Nephritis</td>\n",
       "      <td>1.9</td>\n",
       "    </tr>\n",
       "    <tr>\n",
       "      <th>3</th>\n",
       "      <td>2.0</td>\n",
       "      <td>13.0</td>\n",
       "      <td>0</td>\n",
       "      <td>48.0</td>\n",
       "      <td>female</td>\n",
       "      <td>Glomerulo_Nephritis</td>\n",
       "      <td>1.9</td>\n",
       "    </tr>\n",
       "    <tr>\n",
       "      <th>4</th>\n",
       "      <td>3.0</td>\n",
       "      <td>22.0</td>\n",
       "      <td>1</td>\n",
       "      <td>32.0</td>\n",
       "      <td>male</td>\n",
       "      <td>Other</td>\n",
       "      <td>1.2</td>\n",
       "    </tr>\n",
       "  </tbody>\n",
       "</table>\n",
       "</div>"
      ],
      "text/plain": [
       "  patient  time status   age     sex         disease_type frailty\n",
       "0     1.0   8.0      1  28.0    male                Other     2.3\n",
       "1     1.0  16.0      1  28.0    male                Other     2.3\n",
       "2     2.0  23.0      1  48.0  female  Glomerulo_Nephritis     1.9\n",
       "3     2.0  13.0      0  48.0  female  Glomerulo_Nephritis     1.9\n",
       "4     3.0  22.0      1  32.0    male                Other     1.2"
      ]
     },
     "execution_count": 26,
     "metadata": {},
     "output_type": "execute_result"
    }
   ],
   "source": [
    "#Convert all columns into strings\n",
    "# for column in df.columns:\n",
    "#     df[column] = df[column].astype('str')\n",
    "\n",
    "# df.head()\n",
    "\n",
    "#Convert column 1,2,4,5 into int32\n",
    "\n"
   ]
  },
  {
   "cell_type": "code",
   "execution_count": 27,
   "metadata": {},
   "outputs": [
    {
     "name": "stdout",
     "output_type": "stream",
     "text": [
      "patient         object\n",
      "time            object\n",
      "status          object\n",
      "age             object\n",
      "sex             object\n",
      "disease_type    object\n",
      "frailty         object\n",
      "dtype: object\n"
     ]
    }
   ],
   "source": [
    "print(df.dtypes)"
   ]
  }
 ],
 "metadata": {
  "kernelspec": {
   "display_name": "Python 3",
   "language": "python",
   "name": "python3"
  },
  "language_info": {
   "codemirror_mode": {
    "name": "ipython",
    "version": 3
   },
   "file_extension": ".py",
   "mimetype": "text/x-python",
   "name": "python",
   "nbconvert_exporter": "python",
   "pygments_lexer": "ipython3",
   "version": "3.11.3"
  },
  "orig_nbformat": 4
 },
 "nbformat": 4,
 "nbformat_minor": 2
}
